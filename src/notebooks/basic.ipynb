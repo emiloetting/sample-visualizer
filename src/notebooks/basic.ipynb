{
 "cells": [
  {
   "cell_type": "code",
   "execution_count": 70,
   "metadata": {},
   "outputs": [],
   "source": [
    "import librosa as lb\n",
    "import soundfile as sf\n",
    "import numpy as np\n",
    "import os"
   ]
  },
  {
   "cell_type": "code",
   "execution_count": 71,
   "metadata": {},
   "outputs": [],
   "source": [
    "SILENCE_THRESHOLD_DB = 15\n",
    "NORMALIZING_LEVEL = -0.5"
   ]
  },
  {
   "cell_type": "markdown",
   "metadata": {},
   "source": [
    "## Gather all Samples to display "
   ]
  },
  {
   "cell_type": "code",
   "execution_count": null,
   "metadata": {},
   "outputs": [],
   "source": [
    "sample_root_folder = r'C:\\Users\\emilo\\Documents\\Splice - bruder_emil\\Samples\\packs'\n",
    "\n",
    "cwd = os.getcwd()   \n",
    "data_folder = os.path.join(cwd, 'audio_data')\n",
    "os.makedirs(data_folder, exist_ok=True)  #hier cwd einen tiefer gehen\n",
    "\n",
    "def file_finder(root_folder):\n",
    "    all_samples = []\n",
    "    for root, dirs, files in os.walk(root_folder):\n",
    "        for file in files:\n",
    "            full_path = os.path.join(root, file)\n",
    "            all_samples.append(full_path)\n",
    "            data_folder\n",
    "    return all_samples"
   ]
  },
  {
   "cell_type": "code",
   "execution_count": 73,
   "metadata": {},
   "outputs": [
    {
     "data": {
      "text/plain": [
       "['C:\\\\Users\\\\emilo\\\\Documents\\\\Splice - bruder_emil\\\\Samples\\\\packs\\\\2-Step Garage\\\\SM_White_Label_-_2-Step_Garage_-_Wav\\\\drum_hits\\\\sampler_formats\\\\ableton_drum_rack\\\\sm_white_label_-_2-step_garage_-_sampler_formats_Project\\\\Samples\\\\Imported\\\\2sg_hat_bigga.wav',\n",
       " 'C:\\\\Users\\\\emilo\\\\Documents\\\\Splice - bruder_emil\\\\Samples\\\\packs\\\\2-Step Garage\\\\SM_White_Label_-_2-Step_Garage_-_Wav\\\\drum_hits\\\\sampler_formats\\\\exs24\\\\sm_white_label_-_2-step_garage_-_sampler_formats\\\\Samples\\\\kicks\\\\2sg_kick_cdj.wav',\n",
       " 'C:\\\\Users\\\\emilo\\\\Documents\\\\Splice - bruder_emil\\\\Samples\\\\packs\\\\90s Deep House and Garage\\\\SM_White_Label_-_90s_Deep_House___Garage_-_Splice\\\\drum_hits\\\\hats\\\\dhg_hat_usg.wav',\n",
       " 'C:\\\\Users\\\\emilo\\\\Documents\\\\Splice - bruder_emil\\\\Samples\\\\packs\\\\90s Deep House and Garage\\\\SM_White_Label_-_90s_Deep_House___Garage_-_Splice\\\\fx_shots\\\\dhg_fx_wheel.wav',\n",
       " 'C:\\\\Users\\\\emilo\\\\Documents\\\\Splice - bruder_emil\\\\Samples\\\\packs\\\\90s House\\\\SM74_-_90s_House_-_Wav\\\\one_shots\\\\drum_hits\\\\sampler_patches\\\\kontakt\\\\open_hats_Samples\\\\ny_ophat_livin.wav']"
      ]
     },
     "execution_count": 73,
     "metadata": {},
     "output_type": "execute_result"
    }
   ],
   "source": [
    "data = file_finder(sample_root_folder)\n",
    "data[0:5]"
   ]
  },
  {
   "cell_type": "markdown",
   "metadata": {},
   "source": [
    "# For Basic function: Only One-Shots"
   ]
  },
  {
   "cell_type": "code",
   "execution_count": null,
   "metadata": {},
   "outputs": [],
   "source": []
  },
  {
   "cell_type": "markdown",
   "metadata": {},
   "source": [
    "# Extract Features from samples \n",
    "## Allows for best visualization of the data based on sample-similarity"
   ]
  },
  {
   "cell_type": "markdown",
   "metadata": {},
   "source": [
    "### 1. Step: Load and prepare the data"
   ]
  },
  {
   "cell_type": "code",
   "execution_count": 74,
   "metadata": {},
   "outputs": [],
   "source": [
    "#load audio files\n",
    "\n",
    "def load_audio(file_path):\n",
    "    audio, sr = lb.load(file_path, sr=None, mono=True)\n",
    "    return audio, sr"
   ]
  },
  {
   "cell_type": "code",
   "execution_count": 75,
   "metadata": {},
   "outputs": [],
   "source": [
    "#important: only used for \"correct\" display of samples -> not supposed to change actual sample\n",
    "#removes max-amplitude as possible reason to not place similar sample in same cluster\n",
    "\n",
    "def normalize_amplitude(input_as_array, target_db = NORMALIZING_LEVEL):      #scales amplitude of input_sample to target_db\n",
    "    max_amplitude = np.max(np.abs(input_as_array))               #max amplitude, positive or negative (important due to polarity being positive or negative)\n",
    "    target_amplitude = 10 ** (target_db / 20.0)     \n",
    "    normalized_file = input_as_array * (target_amplitude/ max_amplitude)\n",
    "    return normalized_file"
   ]
  },
  {
   "cell_type": "code",
   "execution_count": 76,
   "metadata": {},
   "outputs": [],
   "source": [
    "def trim_start_end_silence(input_as_array):\n",
    "    trimmed_audio, _ = lb.effects.trim(input_as_array, top_db=SILENCE_THRESHOLD_DB) #cuts sound at start and end of sample, where amplitude is below 30db\n",
    "    return trimmed_audio"
   ]
  },
  {
   "cell_type": "code",
   "execution_count": 77,
   "metadata": {},
   "outputs": [],
   "source": [
    "def preprocess_sample(input_as_array):\n",
    "    normalized = normalize_amplitude(input_as_array)\n",
    "    preprocessed_array = trim_start_end_silence(normalized)\n",
    "    return preprocessed_array"
   ]
  },
  {
   "cell_type": "code",
   "execution_count": 78,
   "metadata": {},
   "outputs": [],
   "source": [
    "def make_mel_db(input_as_array, sample_rate):\n",
    "    mel_spectogram = lb.feature.melspectrogram(y=input_as_array, sr=sample_rate) #2D array -> fitted on human perception of sound\n",
    "    mel_db = lb.power_to_db(mel_spectogram, ref=np.max) #converts power to decibel\n",
    "    return mel_db"
   ]
  },
  {
   "cell_type": "markdown",
   "metadata": {},
   "source": [
    "### 2. Step: Extract Features"
   ]
  },
  {
   "cell_type": "code",
   "execution_count": 79,
   "metadata": {},
   "outputs": [],
   "source": [
    "def get_features(audio_as_array, sr):\n",
    "    sample_lenght = lb.get_duration(y=audio_as_array, sr=sr)\n",
    "    rms = lb.feature.rms(y=audio_as_array)  #average amplitude of sample\n",
    "    rms_mean = np.mean(rms)\n",
    "    rms_std = np.std(rms)\n",
    "    spectral_flatness = lb.feature.spectral_flatness(y=audio_as_array) #how noise-like a sound is\n",
    "    spectral_bandwidth = lb.feature.spectral_bandwidth(y=audio_as_array, sr=sr) #width of frequency range\n",
    "    spectral_centroid = lb.feature.spectral_centroid(y=audio_as_array, sr=sr) #lower=bassier, higeher=more treble\n",
    "    zero_crossing_rate = lb.feature.zero_crossing_rate(y=audio_as_array) #for noise vs tonal sounds -> higher=more noise\n",
    "    return  sr, sample_lenght, rms_mean, rms_std, spectral_flatness, spectral_bandwidth, spectral_centroid, zero_crossing_rate"
   ]
  },
  {
   "cell_type": "markdown",
   "metadata": {},
   "source": [
    "# DataFrame "
   ]
  },
  {
   "cell_type": "code",
   "execution_count": 80,
   "metadata": {},
   "outputs": [],
   "source": [
    "import pandas as pd"
   ]
  },
  {
   "cell_type": "code",
   "execution_count": 81,
   "metadata": {},
   "outputs": [
    {
     "data": {
      "text/plain": [
       "['C:\\\\Users\\\\emilo\\\\Documents\\\\Splice - bruder_emil\\\\Samples\\\\packs\\\\2-Step Garage\\\\SM_White_Label_-_2-Step_Garage_-_Wav\\\\drum_hits\\\\sampler_formats\\\\ableton_drum_rack\\\\sm_white_label_-_2-step_garage_-_sampler_formats_Project\\\\Samples\\\\Imported\\\\2sg_hat_bigga.wav',\n",
       " 'C:\\\\Users\\\\emilo\\\\Documents\\\\Splice - bruder_emil\\\\Samples\\\\packs\\\\2-Step Garage\\\\SM_White_Label_-_2-Step_Garage_-_Wav\\\\drum_hits\\\\sampler_formats\\\\exs24\\\\sm_white_label_-_2-step_garage_-_sampler_formats\\\\Samples\\\\kicks\\\\2sg_kick_cdj.wav',\n",
       " 'C:\\\\Users\\\\emilo\\\\Documents\\\\Splice - bruder_emil\\\\Samples\\\\packs\\\\90s Deep House and Garage\\\\SM_White_Label_-_90s_Deep_House___Garage_-_Splice\\\\drum_hits\\\\hats\\\\dhg_hat_usg.wav',\n",
       " 'C:\\\\Users\\\\emilo\\\\Documents\\\\Splice - bruder_emil\\\\Samples\\\\packs\\\\90s Deep House and Garage\\\\SM_White_Label_-_90s_Deep_House___Garage_-_Splice\\\\fx_shots\\\\dhg_fx_wheel.wav',\n",
       " 'C:\\\\Users\\\\emilo\\\\Documents\\\\Splice - bruder_emil\\\\Samples\\\\packs\\\\90s House\\\\SM74_-_90s_House_-_Wav\\\\one_shots\\\\drum_hits\\\\sampler_patches\\\\kontakt\\\\open_hats_Samples\\\\ny_ophat_livin.wav']"
      ]
     },
     "execution_count": 81,
     "metadata": {},
     "output_type": "execute_result"
    }
   ],
   "source": [
    "data = file_finder(sample_root_folder)\n",
    "data[0:5]"
   ]
  },
  {
   "cell_type": "code",
   "execution_count": 82,
   "metadata": {},
   "outputs": [
    {
     "name": "stdout",
     "output_type": "stream",
     "text": [
      "Error processing file C:\\Users\\emilo\\Documents\\Splice - bruder_emil\\Samples\\packs\\Raw House Cuts\\Sample_Magic_-_Raw_House_Cuts_-_WAV\\loops\\vocal_loops\\RHC_120_vocal_loop_oldsoul_Cmin.wav.zpa: \n",
      "Error processing file C:\\Users\\emilo\\Documents\\Splice - bruder_emil\\Samples\\packs\\Tony Romera - Trademark Series\\Toolroom_-_Tony_Romera_-_Trademark_Series\\One_Shots\\Drums\\Kicks\\T_TSTR_kick_oneshot_ukay.wav.zpa: \n",
      "                                              file_name  sample_length  \\\n",
      "0                                     2sg_hat_bigga.wav       0.069660   \n",
      "1                                      2sg_kick_cdj.wav       0.162540   \n",
      "2                                       dhg_hat_usg.wav       0.104490   \n",
      "3                                      dhg_fx_wheel.wav       0.882358   \n",
      "4                                    ny_ophat_livin.wav       0.301859   \n",
      "...                                                 ...            ...   \n",
      "2669  DS_VUKG_124_vocal_hook_female_loop_time_verse_...      14.245442   \n",
      "2670      DS_VOLAC_percussion_tom_one_shot_human_F#.wav       0.139320   \n",
      "2671           WTECH_125_fx_loop_dotted_crash_delay.wav       0.870748   \n",
      "2672  WH0_vocal_loop_male_talking_paradise_garage_cl...      50.027392   \n",
      "2673                             AlienAtmos03_Atmos.wav      11.853787   \n",
      "\n",
      "      rms_mean   rms_std                                  spectral_flatness  \\\n",
      "0     0.143392  0.069376  [[0.34824944, 0.34124035, 0.36512172, 0.373325...   \n",
      "1     0.510856  0.205252  [[0.005304109, 0.00257921, 0.0006072147, 7.448...   \n",
      "2     0.111331  0.059912  [[0.23216747, 0.21083269, 0.15930599, 0.139946...   \n",
      "3     0.282015  0.093424  [[0.0072932886, 0.002170617, 0.0005545649, 0.0...   \n",
      "4     0.148086  0.045668  [[0.14152071, 0.1339682, 0.09250415, 0.0732399...   \n",
      "...        ...       ...                                                ...   \n",
      "2669  0.218090  0.096054  [[0.16667101, 0.19476777, 0.21254994, 0.065835...   \n",
      "2670  0.251198  0.127801  [[1.1383133e-06, 1.7805304e-07, 1.3260287e-09,...   \n",
      "2671  0.118151  0.061151  [[0.081747316, 0.06564386, 0.047010306, 0.0368...   \n",
      "2672  0.077107  0.052308  [[0.009522951, 0.0085799, 0.009641541, 0.00533...   \n",
      "2673  0.240819  0.080317  [[9.233145e-05, 7.676128e-05, 0.00019291855, 0...   \n",
      "\n",
      "                                     spectral_bandwidth  \\\n",
      "0     [[6845.0664959826445, 6597.070993731029, 6347....   \n",
      "1     [[4157.725519690624, 4194.186048246147, 3954.7...   \n",
      "2     [[4816.00669894319, 4797.675369703416, 4663.13...   \n",
      "3     [[3240.995614924431, 2394.04500933452, 2451.14...   \n",
      "4     [[4562.069564568951, 4563.742425774321, 4383.1...   \n",
      "...                                                 ...   \n",
      "2669  [[4386.368841635545, 4603.8692464799615, 4870....   \n",
      "2670  [[759.0121547565699, 664.3287351844181, 463.38...   \n",
      "2671  [[4410.3408393950385, 4325.684738243321, 4070....   \n",
      "2672  [[3275.298490417533, 3300.601868107638, 3447.2...   \n",
      "2673  [[2156.4041993695187, 2103.4149307514313, 2452...   \n",
      "\n",
      "                                      spectral_centroid  \\\n",
      "0     [[11628.03530060286, 12245.089774616446, 12558...   \n",
      "1     [[2675.0922491839697, 2197.6141309722775, 1644...   \n",
      "2     [[7958.766245673152, 7976.873948666755, 7818.2...   \n",
      "3     [[2503.4080840549427, 2427.064342380947, 2891....   \n",
      "4     [[11089.38570534048, 10916.241368329742, 10549...   \n",
      "...                                                 ...   \n",
      "2669  [[10507.361996997377, 10326.823105231153, 1017...   \n",
      "2670  [[584.1385244431599, 508.8187101852742, 346.51...   \n",
      "2671  [[8033.540164204886, 7624.303317040809, 7555.5...   \n",
      "2672  [[5674.089189885233, 5899.368643548309, 5694.1...   \n",
      "2673  [[1541.6750485216635, 1519.7830439426955, 1784...   \n",
      "\n",
      "                                     zero_crossing_rate  \n",
      "0     [[0.279296875, 0.4287109375, 0.56787109375, 0....  \n",
      "1     [[0.02392578125, 0.025390625, 0.0263671875, 0....  \n",
      "2     [[0.1591796875, 0.23291015625, 0.3134765625, 0...  \n",
      "3     [[0.03564453125, 0.0625, 0.0703125, 0.06201171...  \n",
      "4     [[0.25634765625, 0.3798828125, 0.48583984375, ...  \n",
      "...                                                 ...  \n",
      "2669  [[0.23486328125, 0.361328125, 0.38330078125, 0...  \n",
      "2670  [[0.0078125, 0.009765625, 0.01171875, 0.008789...  \n",
      "2671  [[0.16259765625, 0.2451171875, 0.326171875, 0....  \n",
      "2672  [[0.11376953125, 0.171875, 0.21337890625, 0.18...  \n",
      "2673  [[0.01611328125, 0.02197265625, 0.02734375, 0....  \n",
      "\n",
      "[2674 rows x 8 columns]\n"
     ]
    }
   ],
   "source": [
    "list_for_dataframe = []\n",
    "\n",
    "for sample in data:\n",
    "    try:\n",
    "        file_name = os.path.basename(sample)\n",
    "        #print(f\"Processing file: {file_name}\")\n",
    "        audio, sr = load_audio(sample)\n",
    "        if audio is None or sr is None:\n",
    "            continue\n",
    "        preprocessed_audio = preprocess_sample(audio)\n",
    "        mel_db = make_mel_db(preprocessed_audio, sr)\n",
    "        sr, sample_length, rms_mean, rms_std, spectral_flatness, spectral_bandwidth, spectral_centroid, zero_crossing_rate = get_features(preprocessed_audio, sr)\n",
    "\n",
    "        features = {\n",
    "            'file_name': file_name,\n",
    "            'sample_length': sample_length,\n",
    "            'rms_mean': rms_mean,\n",
    "            'rms_std': rms_std,\n",
    "            'spectral_flatness': spectral_flatness,\n",
    "            'spectral_bandwidth': spectral_bandwidth,\n",
    "            'spectral_centroid': spectral_centroid,\n",
    "            'zero_crossing_rate': zero_crossing_rate\n",
    "        }\n",
    "        list_for_dataframe.append(features)\n",
    "    except Exception as e:\n",
    "        print(f\"Error processing file {sample}: {e}\")\n",
    "\n",
    "df = pd.DataFrame(list_for_dataframe)\n",
    "print(df)"
   ]
  },
  {
   "cell_type": "code",
   "execution_count": 83,
   "metadata": {},
   "outputs": [
    {
     "data": {
      "text/html": [
       "<div>\n",
       "<style scoped>\n",
       "    .dataframe tbody tr th:only-of-type {\n",
       "        vertical-align: middle;\n",
       "    }\n",
       "\n",
       "    .dataframe tbody tr th {\n",
       "        vertical-align: top;\n",
       "    }\n",
       "\n",
       "    .dataframe thead th {\n",
       "        text-align: right;\n",
       "    }\n",
       "</style>\n",
       "<table border=\"1\" class=\"dataframe\">\n",
       "  <thead>\n",
       "    <tr style=\"text-align: right;\">\n",
       "      <th></th>\n",
       "      <th>file_name</th>\n",
       "      <th>sample_length</th>\n",
       "      <th>rms_mean</th>\n",
       "      <th>rms_std</th>\n",
       "      <th>spectral_flatness</th>\n",
       "      <th>spectral_bandwidth</th>\n",
       "      <th>spectral_centroid</th>\n",
       "      <th>zero_crossing_rate</th>\n",
       "    </tr>\n",
       "  </thead>\n",
       "  <tbody>\n",
       "    <tr>\n",
       "      <th>0</th>\n",
       "      <td>2sg_hat_bigga.wav</td>\n",
       "      <td>0.069660</td>\n",
       "      <td>0.143392</td>\n",
       "      <td>0.069376</td>\n",
       "      <td>[[0.34824944, 0.34124035, 0.36512172, 0.373325...</td>\n",
       "      <td>[[6845.0664959826445, 6597.070993731029, 6347....</td>\n",
       "      <td>[[11628.03530060286, 12245.089774616446, 12558...</td>\n",
       "      <td>[[0.279296875, 0.4287109375, 0.56787109375, 0....</td>\n",
       "    </tr>\n",
       "    <tr>\n",
       "      <th>1</th>\n",
       "      <td>2sg_kick_cdj.wav</td>\n",
       "      <td>0.162540</td>\n",
       "      <td>0.510856</td>\n",
       "      <td>0.205252</td>\n",
       "      <td>[[0.005304109, 0.00257921, 0.0006072147, 7.448...</td>\n",
       "      <td>[[4157.725519690624, 4194.186048246147, 3954.7...</td>\n",
       "      <td>[[2675.0922491839697, 2197.6141309722775, 1644...</td>\n",
       "      <td>[[0.02392578125, 0.025390625, 0.0263671875, 0....</td>\n",
       "    </tr>\n",
       "    <tr>\n",
       "      <th>2</th>\n",
       "      <td>dhg_hat_usg.wav</td>\n",
       "      <td>0.104490</td>\n",
       "      <td>0.111331</td>\n",
       "      <td>0.059912</td>\n",
       "      <td>[[0.23216747, 0.21083269, 0.15930599, 0.139946...</td>\n",
       "      <td>[[4816.00669894319, 4797.675369703416, 4663.13...</td>\n",
       "      <td>[[7958.766245673152, 7976.873948666755, 7818.2...</td>\n",
       "      <td>[[0.1591796875, 0.23291015625, 0.3134765625, 0...</td>\n",
       "    </tr>\n",
       "    <tr>\n",
       "      <th>3</th>\n",
       "      <td>dhg_fx_wheel.wav</td>\n",
       "      <td>0.882358</td>\n",
       "      <td>0.282015</td>\n",
       "      <td>0.093424</td>\n",
       "      <td>[[0.0072932886, 0.002170617, 0.0005545649, 0.0...</td>\n",
       "      <td>[[3240.995614924431, 2394.04500933452, 2451.14...</td>\n",
       "      <td>[[2503.4080840549427, 2427.064342380947, 2891....</td>\n",
       "      <td>[[0.03564453125, 0.0625, 0.0703125, 0.06201171...</td>\n",
       "    </tr>\n",
       "    <tr>\n",
       "      <th>4</th>\n",
       "      <td>ny_ophat_livin.wav</td>\n",
       "      <td>0.301859</td>\n",
       "      <td>0.148086</td>\n",
       "      <td>0.045668</td>\n",
       "      <td>[[0.14152071, 0.1339682, 0.09250415, 0.0732399...</td>\n",
       "      <td>[[4562.069564568951, 4563.742425774321, 4383.1...</td>\n",
       "      <td>[[11089.38570534048, 10916.241368329742, 10549...</td>\n",
       "      <td>[[0.25634765625, 0.3798828125, 0.48583984375, ...</td>\n",
       "    </tr>\n",
       "  </tbody>\n",
       "</table>\n",
       "</div>"
      ],
      "text/plain": [
       "            file_name  sample_length  rms_mean   rms_std  \\\n",
       "0   2sg_hat_bigga.wav       0.069660  0.143392  0.069376   \n",
       "1    2sg_kick_cdj.wav       0.162540  0.510856  0.205252   \n",
       "2     dhg_hat_usg.wav       0.104490  0.111331  0.059912   \n",
       "3    dhg_fx_wheel.wav       0.882358  0.282015  0.093424   \n",
       "4  ny_ophat_livin.wav       0.301859  0.148086  0.045668   \n",
       "\n",
       "                                   spectral_flatness  \\\n",
       "0  [[0.34824944, 0.34124035, 0.36512172, 0.373325...   \n",
       "1  [[0.005304109, 0.00257921, 0.0006072147, 7.448...   \n",
       "2  [[0.23216747, 0.21083269, 0.15930599, 0.139946...   \n",
       "3  [[0.0072932886, 0.002170617, 0.0005545649, 0.0...   \n",
       "4  [[0.14152071, 0.1339682, 0.09250415, 0.0732399...   \n",
       "\n",
       "                                  spectral_bandwidth  \\\n",
       "0  [[6845.0664959826445, 6597.070993731029, 6347....   \n",
       "1  [[4157.725519690624, 4194.186048246147, 3954.7...   \n",
       "2  [[4816.00669894319, 4797.675369703416, 4663.13...   \n",
       "3  [[3240.995614924431, 2394.04500933452, 2451.14...   \n",
       "4  [[4562.069564568951, 4563.742425774321, 4383.1...   \n",
       "\n",
       "                                   spectral_centroid  \\\n",
       "0  [[11628.03530060286, 12245.089774616446, 12558...   \n",
       "1  [[2675.0922491839697, 2197.6141309722775, 1644...   \n",
       "2  [[7958.766245673152, 7976.873948666755, 7818.2...   \n",
       "3  [[2503.4080840549427, 2427.064342380947, 2891....   \n",
       "4  [[11089.38570534048, 10916.241368329742, 10549...   \n",
       "\n",
       "                                  zero_crossing_rate  \n",
       "0  [[0.279296875, 0.4287109375, 0.56787109375, 0....  \n",
       "1  [[0.02392578125, 0.025390625, 0.0263671875, 0....  \n",
       "2  [[0.1591796875, 0.23291015625, 0.3134765625, 0...  \n",
       "3  [[0.03564453125, 0.0625, 0.0703125, 0.06201171...  \n",
       "4  [[0.25634765625, 0.3798828125, 0.48583984375, ...  "
      ]
     },
     "execution_count": 83,
     "metadata": {},
     "output_type": "execute_result"
    }
   ],
   "source": [
    "df.head()"
   ]
  },
  {
   "cell_type": "markdown",
   "metadata": {},
   "source": [
    "### Reduce arrays to a mean and standard deviation"
   ]
  },
  {
   "cell_type": "code",
   "execution_count": 84,
   "metadata": {},
   "outputs": [
    {
     "data": {
      "text/html": [
       "<div>\n",
       "<style scoped>\n",
       "    .dataframe tbody tr th:only-of-type {\n",
       "        vertical-align: middle;\n",
       "    }\n",
       "\n",
       "    .dataframe tbody tr th {\n",
       "        vertical-align: top;\n",
       "    }\n",
       "\n",
       "    .dataframe thead th {\n",
       "        text-align: right;\n",
       "    }\n",
       "</style>\n",
       "<table border=\"1\" class=\"dataframe\">\n",
       "  <thead>\n",
       "    <tr style=\"text-align: right;\">\n",
       "      <th></th>\n",
       "      <th>file_name</th>\n",
       "      <th>sample_length</th>\n",
       "      <th>rms_mean</th>\n",
       "      <th>rms_std</th>\n",
       "      <th>spectral_flatness_mean</th>\n",
       "      <th>spectral_flatness_std</th>\n",
       "      <th>spectral_bandwidth_mean</th>\n",
       "      <th>spectral_bandwidth_std</th>\n",
       "      <th>spectral_centroid_mean</th>\n",
       "      <th>spectral_centroid_std</th>\n",
       "      <th>zero_crossing_rate_mean</th>\n",
       "      <th>zero_crossing_rate_std</th>\n",
       "    </tr>\n",
       "  </thead>\n",
       "  <tbody>\n",
       "    <tr>\n",
       "      <th>0</th>\n",
       "      <td>2sg_hat_bigga.wav</td>\n",
       "      <td>0.069660</td>\n",
       "      <td>0.143392</td>\n",
       "      <td>0.069376</td>\n",
       "      <td>0.368317</td>\n",
       "      <td>0.016868</td>\n",
       "      <td>6403.459615</td>\n",
       "      <td>216.176266</td>\n",
       "      <td>11825.951415</td>\n",
       "      <td>634.322103</td>\n",
       "      <td>0.425642</td>\n",
       "      <td>0.126881</td>\n",
       "    </tr>\n",
       "    <tr>\n",
       "      <th>1</th>\n",
       "      <td>2sg_kick_cdj.wav</td>\n",
       "      <td>0.162540</td>\n",
       "      <td>0.510856</td>\n",
       "      <td>0.205252</td>\n",
       "      <td>0.000745</td>\n",
       "      <td>0.001480</td>\n",
       "      <td>2146.030276</td>\n",
       "      <td>1680.559099</td>\n",
       "      <td>864.004161</td>\n",
       "      <td>946.898850</td>\n",
       "      <td>0.007129</td>\n",
       "      <td>0.009136</td>\n",
       "    </tr>\n",
       "    <tr>\n",
       "      <th>2</th>\n",
       "      <td>dhg_hat_usg.wav</td>\n",
       "      <td>0.104490</td>\n",
       "      <td>0.111331</td>\n",
       "      <td>0.059912</td>\n",
       "      <td>0.134991</td>\n",
       "      <td>0.049456</td>\n",
       "      <td>4628.190863</td>\n",
       "      <td>148.929099</td>\n",
       "      <td>7484.009791</td>\n",
       "      <td>382.581299</td>\n",
       "      <td>0.245557</td>\n",
       "      <td>0.059547</td>\n",
       "    </tr>\n",
       "    <tr>\n",
       "      <th>3</th>\n",
       "      <td>dhg_fx_wheel.wav</td>\n",
       "      <td>0.882358</td>\n",
       "      <td>0.282015</td>\n",
       "      <td>0.093424</td>\n",
       "      <td>0.028588</td>\n",
       "      <td>0.049069</td>\n",
       "      <td>3470.510634</td>\n",
       "      <td>882.606921</td>\n",
       "      <td>4453.312289</td>\n",
       "      <td>1294.820164</td>\n",
       "      <td>0.127181</td>\n",
       "      <td>0.062058</td>\n",
       "    </tr>\n",
       "    <tr>\n",
       "      <th>4</th>\n",
       "      <td>ny_ophat_livin.wav</td>\n",
       "      <td>0.301859</td>\n",
       "      <td>0.148086</td>\n",
       "      <td>0.045668</td>\n",
       "      <td>0.076336</td>\n",
       "      <td>0.052573</td>\n",
       "      <td>4221.875746</td>\n",
       "      <td>404.433825</td>\n",
       "      <td>9316.975243</td>\n",
       "      <td>1346.671772</td>\n",
       "      <td>0.392614</td>\n",
       "      <td>0.069868</td>\n",
       "    </tr>\n",
       "  </tbody>\n",
       "</table>\n",
       "</div>"
      ],
      "text/plain": [
       "            file_name  sample_length  rms_mean   rms_std  \\\n",
       "0   2sg_hat_bigga.wav       0.069660  0.143392  0.069376   \n",
       "1    2sg_kick_cdj.wav       0.162540  0.510856  0.205252   \n",
       "2     dhg_hat_usg.wav       0.104490  0.111331  0.059912   \n",
       "3    dhg_fx_wheel.wav       0.882358  0.282015  0.093424   \n",
       "4  ny_ophat_livin.wav       0.301859  0.148086  0.045668   \n",
       "\n",
       "   spectral_flatness_mean  spectral_flatness_std  spectral_bandwidth_mean  \\\n",
       "0                0.368317               0.016868              6403.459615   \n",
       "1                0.000745               0.001480              2146.030276   \n",
       "2                0.134991               0.049456              4628.190863   \n",
       "3                0.028588               0.049069              3470.510634   \n",
       "4                0.076336               0.052573              4221.875746   \n",
       "\n",
       "   spectral_bandwidth_std  spectral_centroid_mean  spectral_centroid_std  \\\n",
       "0              216.176266            11825.951415             634.322103   \n",
       "1             1680.559099              864.004161             946.898850   \n",
       "2              148.929099             7484.009791             382.581299   \n",
       "3              882.606921             4453.312289            1294.820164   \n",
       "4              404.433825             9316.975243            1346.671772   \n",
       "\n",
       "   zero_crossing_rate_mean  zero_crossing_rate_std  \n",
       "0                 0.425642                0.126881  \n",
       "1                 0.007129                0.009136  \n",
       "2                 0.245557                0.059547  \n",
       "3                 0.127181                0.062058  \n",
       "4                 0.392614                0.069868  "
      ]
     },
     "execution_count": 84,
     "metadata": {},
     "output_type": "execute_result"
    }
   ],
   "source": [
    "import numpy as np\n",
    "\n",
    "# Reduziere die Arrays auf Mittelwert und Standardabweichung\n",
    "df['spectral_flatness_mean'] = df['spectral_flatness'].apply(np.mean)\n",
    "df['spectral_flatness_std'] = df['spectral_flatness'].apply(np.std)\n",
    "\n",
    "df['spectral_bandwidth_mean'] = df['spectral_bandwidth'].apply(np.mean)\n",
    "df['spectral_bandwidth_std'] = df['spectral_bandwidth'].apply(np.std)\n",
    "\n",
    "df['spectral_centroid_mean'] = df['spectral_centroid'].apply(np.mean)\n",
    "df['spectral_centroid_std'] = df['spectral_centroid'].apply(np.std)\n",
    "\n",
    "df['zero_crossing_rate_mean'] = df['zero_crossing_rate'].apply(np.mean)\n",
    "df['zero_crossing_rate_std'] = df['zero_crossing_rate'].apply(np.std)\n",
    "\n",
    "# Optional: Entferne die ursprünglichen Arrays, falls nicht mehr benötigt\n",
    "df.drop(columns=['spectral_flatness', 'spectral_bandwidth', 'spectral_centroid', 'zero_crossing_rate'], inplace=True)\n",
    "\n",
    "# Ausgabe zur Kontrolle\n",
    "df.head()\n"
   ]
  },
  {
   "cell_type": "code",
   "execution_count": null,
   "metadata": {},
   "outputs": [],
   "source": [
    "from sklearn.preprocessing import MinMaxScaler\n",
    "\n",
    "scaler = MinMaxScaler()\n",
    "features_for_scaling = ['sample_length', 'rms_mean', 'rms_std', 'spectral_flateness_mean', 'spectral_flateness_std', 'spectral_bandwidth_mean', 'spectral_bandwidth_std', 'spectral_centroid_mean', 'spectral_centroid_std', 'zero_crossing_rate_mean', 'zero_crossing_rate_std']\n",
    "\n",
    "for feature in features_for_scaling:\n",
    "    df[feature] = scaler.fit_transform(df[feature].values.reshape(-1, 1))\n"
   ]
  }
 ],
 "metadata": {
  "kernelspec": {
   "display_name": ".venv",
   "language": "python",
   "name": "python3"
  },
  "language_info": {
   "codemirror_mode": {
    "name": "ipython",
    "version": 3
   },
   "file_extension": ".py",
   "mimetype": "text/x-python",
   "name": "python",
   "nbconvert_exporter": "python",
   "pygments_lexer": "ipython3",
   "version": "3.12.8"
  }
 },
 "nbformat": 4,
 "nbformat_minor": 2
}
